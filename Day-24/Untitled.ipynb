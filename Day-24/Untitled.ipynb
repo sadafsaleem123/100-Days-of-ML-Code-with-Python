{
  "cells": [
    {
      "cell_type": "markdown",
      "source": [
        "\n",
        "\n",
        "# Comparison between List and NumPy\n",
        "-----------------------------------\n",
        "List is slow and numpy is fast. \n",
        "\n",
        "One reason is that numpy uses fixed types and list does not. \n",
        "Benefit: Because numpy has less bytes of memory so it is faster to read less bytes of memory\n",
        "\n",
        "Second reason is that numpy has contiguous memory and list has chunks of bytes that are being allocated without sequentially. \n",
        "Benefit: It use SIMD Vector processing and has effective cache utilization\n",
        "\n",
        "In list we do insertion, deletion, appending, concatenation. But numppy has much more to it as well.\n",
        "\n",
        "Numpy can be used for Mathemattics, Plotting, Backend(store images) and Machine Learning stuff.\n",
        " "
      ],
      "metadata": {
        "id": "GEw5TFz-eWZJ"
      },
      "id": "GEw5TFz-eWZJ"
    },
    {
      "cell_type": "code",
      "source": [
        "import numpy as np\n",
        "\n",
        "arr = np.array([1, 2, 3, 4])\n",
        "print(arr)"
      ],
      "metadata": {
        "colab": {
          "base_uri": "https://localhost:8080/"
        },
        "id": "QWxBqR6tdBC1",
        "outputId": "a80ebd9e-e09f-46a8-804f-ce05a2404458"
      },
      "id": "QWxBqR6tdBC1",
      "execution_count": 2,
      "outputs": [
        {
          "output_type": "stream",
          "name": "stdout",
          "text": [
            "[1 2 3 4]\n"
          ]
        }
      ]
    },
    {
      "cell_type": "code",
      "source": [
        "#2D array\n",
        "b = np.array([[9.0, 7.0, 8.0], [4.0, 3.0, 9.5]]) #double square bracket is must\n",
        "print(b)"
      ],
      "metadata": {
        "colab": {
          "base_uri": "https://localhost:8080/"
        },
        "id": "_HR3deZgdBGr",
        "outputId": "ef7577f6-2602-4931-e880-0d153c33048d"
      },
      "id": "_HR3deZgdBGr",
      "execution_count": 3,
      "outputs": [
        {
          "output_type": "stream",
          "name": "stdout",
          "text": [
            "[[9.  7.  8. ]\n",
            " [4.  3.  9.5]]\n"
          ]
        }
      ]
    },
    {
      "cell_type": "code",
      "source": [
        "b.ndim #to get dimension"
      ],
      "metadata": {
        "colab": {
          "base_uri": "https://localhost:8080/"
        },
        "id": "oAwOt9iMdBJ0",
        "outputId": "7c78653f-e11e-4187-f841-086e9d9ca0b4"
      },
      "id": "oAwOt9iMdBJ0",
      "execution_count": 4,
      "outputs": [
        {
          "output_type": "execute_result",
          "data": {
            "text/plain": [
              "2"
            ]
          },
          "metadata": {},
          "execution_count": 4
        }
      ]
    },
    {
      "cell_type": "code",
      "source": [
        "b.shape"
      ],
      "metadata": {
        "colab": {
          "base_uri": "https://localhost:8080/"
        },
        "id": "RROkHF8gdBRe",
        "outputId": "f28c24da-852d-4f8e-b05f-4b2c97ed192c"
      },
      "id": "RROkHF8gdBRe",
      "execution_count": 5,
      "outputs": [
        {
          "output_type": "execute_result",
          "data": {
            "text/plain": [
              "(2, 3)"
            ]
          },
          "metadata": {},
          "execution_count": 5
        }
      ]
    },
    {
      "cell_type": "code",
      "source": [
        "b.dtype"
      ],
      "metadata": {
        "colab": {
          "base_uri": "https://localhost:8080/"
        },
        "id": "tw9NA0EwdBU7",
        "outputId": "96f2e643-f9d1-4328-cd2a-c9b2849feb1a"
      },
      "id": "tw9NA0EwdBU7",
      "execution_count": 6,
      "outputs": [
        {
          "output_type": "execute_result",
          "data": {
            "text/plain": [
              "dtype('float64')"
            ]
          },
          "metadata": {},
          "execution_count": 6
        }
      ]
    },
    {
      "cell_type": "code",
      "source": [
        "b.itemsize #to get size\n",
        "#the output is 8 because the type is float"
      ],
      "metadata": {
        "colab": {
          "base_uri": "https://localhost:8080/"
        },
        "id": "hALJRv8XdBX0",
        "outputId": "a6d5d927-116d-4318-9367-6d89ef90ae4b"
      },
      "id": "hALJRv8XdBX0",
      "execution_count": 7,
      "outputs": [
        {
          "output_type": "execute_result",
          "data": {
            "text/plain": [
              "8"
            ]
          },
          "metadata": {},
          "execution_count": 7
        }
      ]
    },
    {
      "cell_type": "code",
      "source": [
        "b.nbytes #to get the total size\n",
        "#8*no of items"
      ],
      "metadata": {
        "colab": {
          "base_uri": "https://localhost:8080/"
        },
        "id": "qLVx7pL1dBbF",
        "outputId": "3e01ae78-dde5-450e-e1c5-7657cdecd325"
      },
      "id": "qLVx7pL1dBbF",
      "execution_count": 8,
      "outputs": [
        {
          "output_type": "execute_result",
          "data": {
            "text/plain": [
              "48"
            ]
          },
          "metadata": {},
          "execution_count": 8
        }
      ]
    },
    {
      "cell_type": "code",
      "source": [
        "a = np.array([[1,2,3,4,5,6,7,8,9], [9,8,7,6,5,4,3,2,1]]) \n",
        "print(a)"
      ],
      "metadata": {
        "colab": {
          "base_uri": "https://localhost:8080/"
        },
        "id": "OgrMRUSPdBeJ",
        "outputId": "8e8c5f77-f632-4728-ed9e-ae853ab8add9"
      },
      "id": "OgrMRUSPdBeJ",
      "execution_count": 9,
      "outputs": [
        {
          "output_type": "stream",
          "name": "stdout",
          "text": [
            "[[1 2 3 4 5 6 7 8 9]\n",
            " [9 8 7 6 5 4 3 2 1]]\n"
          ]
        }
      ]
    },
    {
      "cell_type": "code",
      "source": [
        "#to get a specific element\n",
        "a[1,3] #[row starts from 0, column starts from 0]"
      ],
      "metadata": {
        "colab": {
          "base_uri": "https://localhost:8080/"
        },
        "id": "AKnMDn6ndBh9",
        "outputId": "3f02bcc3-ada4-43ff-91a0-d2d59ffecc96"
      },
      "id": "AKnMDn6ndBh9",
      "execution_count": 11,
      "outputs": [
        {
          "output_type": "execute_result",
          "data": {
            "text/plain": [
              "6"
            ]
          },
          "metadata": {},
          "execution_count": 11
        }
      ]
    },
    {
      "cell_type": "code",
      "source": [
        "a[0, :] #[first row, all columns]\n"
      ],
      "metadata": {
        "colab": {
          "base_uri": "https://localhost:8080/"
        },
        "id": "lyR2Wgm8dBla",
        "outputId": "21663667-731c-46f3-e97f-63b50aa3c628"
      },
      "id": "lyR2Wgm8dBla",
      "execution_count": 12,
      "outputs": [
        {
          "output_type": "execute_result",
          "data": {
            "text/plain": [
              "array([1, 2, 3, 4, 5, 6, 7, 8, 9])"
            ]
          },
          "metadata": {},
          "execution_count": 12
        }
      ]
    },
    {
      "cell_type": "code",
      "source": [
        "a[: , 0] #[all rows, first column]"
      ],
      "metadata": {
        "colab": {
          "base_uri": "https://localhost:8080/"
        },
        "id": "4hPyu24VdBpK",
        "outputId": "bb93e989-668b-4072-bf96-f0b74a2a746d"
      },
      "id": "4hPyu24VdBpK",
      "execution_count": 13,
      "outputs": [
        {
          "output_type": "execute_result",
          "data": {
            "text/plain": [
              "array([1, 9])"
            ]
          },
          "metadata": {},
          "execution_count": 13
        }
      ]
    },
    {
      "cell_type": "code",
      "source": [
        "a[0, 0: 8 :2] #[row, startindex : endindex : stepsize]"
      ],
      "metadata": {
        "colab": {
          "base_uri": "https://localhost:8080/"
        },
        "id": "Zwuw7tjbdBsC",
        "outputId": "a54c34c1-2dd6-4f9e-a822-815df157c492"
      },
      "id": "Zwuw7tjbdBsC",
      "execution_count": 14,
      "outputs": [
        {
          "output_type": "execute_result",
          "data": {
            "text/plain": [
              "array([1, 3, 5, 7])"
            ]
          },
          "metadata": {},
          "execution_count": 14
        }
      ]
    },
    {
      "cell_type": "code",
      "source": [
        "a[1,5] = 30 #changes element\n",
        "print(a)"
      ],
      "metadata": {
        "colab": {
          "base_uri": "https://localhost:8080/"
        },
        "id": "ogdUKXt3dWrs",
        "outputId": "0b279295-26c7-4788-81c6-10e99299539b"
      },
      "id": "ogdUKXt3dWrs",
      "execution_count": 15,
      "outputs": [
        {
          "output_type": "stream",
          "name": "stdout",
          "text": [
            "[[ 1  2  3  4  5  6  7  8  9]\n",
            " [ 9  8  7  6  5 30  3  2  1]]\n"
          ]
        }
      ]
    }
  ],
  "metadata": {
    "kernelspec": {
      "display_name": "Python 3 (ipykernel)",
      "language": "python",
      "name": "python3"
    },
    "colab": {
      "provenance": []
    }
  },
  "nbformat": 4,
  "nbformat_minor": 5
}