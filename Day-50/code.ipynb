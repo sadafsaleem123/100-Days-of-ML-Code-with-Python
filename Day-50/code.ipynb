{
  "cells": [
    {
      "cell_type": "markdown",
      "source": [
        "# **Equation of a Hyperplane in n-dimensions**\n",
        "\n",
        "Link: https://www.youtube.com/watch?v=10e-b8AgdVA&list=PLKnIA16_RmvbOIFee-ra7U6jR2oIbCZBL&index=2"
      ],
      "metadata": {
        "id": "CRxRrw9y0SKh"
      }
    },
    {
      "cell_type": "markdown",
      "source": [
        "\n",
        "**What is hyperplane?**\n",
        "\n",
        "In a 2D coordinate plane, we often use line and in 3D coordinate plane, we know there is a term called plane that can be equivalent to the line in 2D system. But what for 4D, 5D or nD coordinate systems? \n",
        "In these coordinate systems, the equivalent of line or plane is hyperplane, and so we use hyperplane. and now we will be calculating the equation of hyperplane.\n",
        "\n",
        "\n",
        "But wait **Why we need to calculate the equation?**\n",
        "\n",
        "The answer is because in our Machine Learning tasks, we frequently use high dimensoinal data that contains multiple columns as like the most famous iris data and for classification and regression analysis we need to use the equation of our hyperplane.\n",
        "\n",
        "```\n",
        "ax +by + c = 0 \n",
        "```\n",
        "\n",
        "\n",
        "\n",
        "after re-arranging this,\n",
        "```\n",
        "y = (-a/b) x - c/b\n",
        "```\n",
        "\n",
        "now we know the general form is: \n",
        "```\n",
        "y= mx + b\n",
        "\n",
        "```\n",
        "\n",
        "so,\n",
        "\n",
        "```\n",
        "m = (-a/b) and  b = -c/b\n",
        "```\n",
        "\n"
      ],
      "metadata": {
        "id": "2xWzmplW0PFi"
      }
    }
  ],
  "metadata": {
    "language_info": {
      "name": "python"
    },
    "orig_nbformat": 4,
    "colab": {
      "provenance": []
    }
  },
  "nbformat": 4,
  "nbformat_minor": 0
}