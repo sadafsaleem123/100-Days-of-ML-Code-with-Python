{
  "cells": [
    {
      "cell_type": "markdown",
      "source": [
        "# **Equation of a Hyperplane in n-dimensions**\n",
        "\n",
        "Link: https://www.youtube.com/watch?v=10e-b8AgdVA&list=PLKnIA16_RmvbOIFee-ra7U6jR2oIbCZBL&index=2"
      ],
      "metadata": {
        "id": "CRxRrw9y0SKh"
      }
    },
    {
      "cell_type": "markdown",
      "source": [
        "\n",
        "**What is hyperplane?**\n",
        "\n",
        "In a 2D coordinate plane, we often use line and in 3D coordinate plane, we know there is a term called plane that can be equivalent to the line in 2D system. But what for 4D, 5D or nD coordinate systems? \n",
        "In these coordinate systems, the equivalent of line or plane is hyperplane, and so we use hyperplane. and now we will be calculating the equation of hyperplane.\n",
        "\n",
        "\n",
        "But wait **Why we need to calculate the equation?**\n",
        "\n",
        "The answer is because in our Machine Learning tasks, we frequently use high dimensoinal data that contains multiple columns as like the most famous iris data and for classification and regression analysis we need to use the equation of our hyperplane.\n",
        "\n",
        "```\n",
        "ax +by + c = 0 \n",
        "```\n",
        "\n",
        "\n",
        "\n",
        "after re-arranging this,\n",
        "```\n",
        "y = (-a/b) x - c/b\n",
        "```\n",
        "\n",
        "now we know the general form is: \n",
        "```\n",
        "y= mx + b\n",
        "\n",
        "```\n",
        "\n",
        "so,\n",
        "\n",
        "```\n",
        "m = (-a/b) and  b = -c/b\n",
        "```\n",
        "\n"
      ],
      "metadata": {
        "id": "2xWzmplW0PFi"
      }
    },
    {
      "cell_type": "markdown",
      "source": [
        "\n",
        "\n",
        "```\n",
        "ax + by + c = 0\n",
        "ax1 + by2 + c = 0\n",
        "```\n",
        "\n",
        "```\n",
        "w1x1 + w2x2 + wo = 0\n",
        "\n",
        "w1x1 + w2x2 + w3x3 + wo = 0\n",
        "\n",
        "```\n",
        "Final equation\n",
        "```\n",
        "w1x1 + w2x2 + w3x3 + .... + w3x3 + wo = 0   ---------(1)\n",
        "```\n",
        "\n",
        "in terms of vectors;\n",
        "\n",
        "```\n",
        "w.x = w1x1 + w2x2   \n",
        "```\n",
        "\n",
        "so, we can treat the x of eq(1) as a vector by assuming it in x-dimensional space like this; \n",
        "\n",
        "```\n",
        "w.x + wo = 0  ---------(2)\n",
        "\n",
        "[w1 , w2 , w3 ,.. , wn] [x1]\n",
        "#row vector             [x1]\n",
        "                        [x1]\n",
        "                          .\n",
        "                          .\n",
        "                        [x1]\n",
        "```\n",
        "\n",
        "As we know by default the equation is in column vector but when converting it to row vector we take the transpose operation on eq(2). here W -> W^transpose\n",
        "\n",
        "```\n",
        "w^t.x + wo = 0\n",
        "```\n",
        "Now, this is the final vector equation that is n-dimentional.\n",
        "\n",
        "If the hyperplane passes from the origin, we assume; \n",
        "```\n",
        "wt. x = 0  ---------(3)\n",
        "\n",
        "```\n",
        "\n",
        "####  **What is w?**\n",
        "\n",
        "From eq(3) we know\n",
        "\n",
        "```\n",
        "wt. x = 0 similarly\n",
        "w . x = 0 and,\n",
        "|w||x| cos Θ\t= 0 \n",
        "```\n",
        "It can only be possible when Θ= 90 degrees. That means the w is the line perpendicular to x (the hyperplane).\t"
      ],
      "metadata": {
        "id": "-7xi62aTH7lq"
      }
    }
  ],
  "metadata": {
    "language_info": {
      "name": "python"
    },
    "orig_nbformat": 4,
    "colab": {
      "provenance": []
    }
  },
  "nbformat": 4,
  "nbformat_minor": 0
}