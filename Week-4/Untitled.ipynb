{
 "cells": [
  {
   "cell_type": "code",
   "execution_count": 1,
   "id": "dc041a16-8d4c-439e-8e60-8be58f36d7af",
   "metadata": {},
   "outputs": [
    {
     "name": "stdout",
     "output_type": "stream",
     "text": [
      "from Numpy\n",
      "Minimum value: 1\n",
      "Maximum value: 5\n"
     ]
    }
   ],
   "source": [
    "\n",
    "\n",
    "import numpy as np\n",
    "\n",
    "class Parent:\n",
    "    def __init__(self):\n",
    "        pass\n",
    "            \n",
    "    class Numpy:\n",
    "        def __init__(self):\n",
    "            print(\"from Numpy\")\n",
    "\n",
    "        def find_min(self, arr):\n",
    "            \"\"\"\n",
    "            Finds the minimum value in a numpy array.\n",
    "            \"\"\"\n",
    "            return np.min(arr)\n",
    "\n",
    "        def find_max(self, arr):\n",
    "            \"\"\"\n",
    "            Finds the maximum value in a numpy array.\n",
    "            \"\"\"\n",
    "            return np.max(arr)\n",
    "\n",
    "    class Pandas:\n",
    "        def __init__(self):\n",
    "            print(\"from Pandas\")\n",
    "\n",
    "    class Sklearn:\n",
    "        def __init__(self):\n",
    "            print(\"from Sklearn\")\n",
    "\n",
    "    class Matplotlib:\n",
    "        def __init__(self):\n",
    "            print(\"from Matplotlib\")\n",
    "\n",
    "\n",
    "parent_lib = Parent()\n",
    "parent_instance = parent_lib.Numpy() # create an instance of Numpy class \n",
    "\n",
    "# Example usage\n",
    "arr = np.array([1, 2, 3, 4, 5])\n",
    "print(\"Minimum value:\", parent_instance.find_min(arr))\n",
    "print(\"Maximum value:\", parent_instance.find_max(arr))"
   ]
  },
  {
   "cell_type": "code",
   "execution_count": null,
   "id": "0aa07b60-b4bf-422a-a421-518ac9dfc501",
   "metadata": {},
   "outputs": [],
   "source": []
  }
 ],
 "metadata": {
  "kernelspec": {
   "display_name": "Python 3 (ipykernel)",
   "language": "python",
   "name": "python3"
  },
  "language_info": {
   "codemirror_mode": {
    "name": "ipython",
    "version": 3
   },
   "file_extension": ".py",
   "mimetype": "text/x-python",
   "name": "python",
   "nbconvert_exporter": "python",
   "pygments_lexer": "ipython3",
   "version": "3.9.13"
  }
 },
 "nbformat": 4,
 "nbformat_minor": 5
}
