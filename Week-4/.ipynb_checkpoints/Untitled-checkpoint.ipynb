{
 "cells": [
  {
   "cell_type": "code",
   "execution_count": 32,
   "metadata": {},
   "outputs": [
    {
     "name": "stdout",
     "output_type": "stream",
     "text": [
      "Minimum value: 1\n",
      "Maximum value: 5\n"
     ]
    }
   ],
   "source": [
    "import numpy as np\n",
    "import pandas as pd\n",
    "\n",
    "class Parent_lib:\n",
    "    def __init__(self):\n",
    "        pass\n",
    "            \n",
    "    class Numpy:\n",
    "        def find_min(self, arr):\n",
    "            \"\"\"\n",
    "            Finds the minimum value in a numpy array.\n",
    "            \"\"\"\n",
    "            return np.min(arr)\n",
    "\n",
    "        def find_max(self, arr):\n",
    "            \"\"\"\n",
    "            Finds the maximum value in a numpy array.\n",
    "            \"\"\"\n",
    "            return np.max(arr)\n",
    "\n",
    "    class Pandas:\n",
    "        def __init__(self):\n",
    "            print(\"from Pandas\")\n",
    "\n",
    "    class Sklearn:\n",
    "        def __init__(self):\n",
    "            print(\"from Sklearn\")\n",
    "\n",
    "    class Matplotlib:\n",
    "        def __init__(self):\n",
    "            print(\"from Matplotlib\")\n",
    "\n",
    "class Child(Parent_lib.Numpy):  #Inherit from Parent\n",
    "    def __init__(self):\n",
    "        pass\n",
    "\n",
    "# Example usage\n",
    "arr = np.array([1, 2, 3, 4, 5])\n",
    "child_instance = Child()\n",
    "print(\"Minimum value:\", child_instance.find_min(arr))\n",
    "print(\"Maximum value:\", child_instance.find_max(arr))\n"
   ]
  }
 ],
 "metadata": {
  "kernelspec": {
   "display_name": "Python 3",
   "language": "python",
   "name": "python3"
  },
  "language_info": {
   "codemirror_mode": {
    "name": "ipython",
    "version": 3
   },
   "file_extension": ".py",
   "mimetype": "text/x-python",
   "name": "python",
   "nbconvert_exporter": "python",
   "pygments_lexer": "ipython3",
   "version": "3.11.0"
  }
 },
 "nbformat": 4,
 "nbformat_minor": 5
}
