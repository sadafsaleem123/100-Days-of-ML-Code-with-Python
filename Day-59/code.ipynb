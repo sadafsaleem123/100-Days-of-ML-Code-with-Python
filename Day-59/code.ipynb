{
  "cells": [
    {
      "cell_type": "code",
      "execution_count": 10,
      "metadata": {
        "id": "ZBHTUg0x2cHv"
      },
      "outputs": [],
      "source": []
    },
    {
      "cell_type": "markdown",
      "source": [
        "Consider a neuron as a function that tells us a number between 0 and 1. \n",
        "\n",
        "number of neurons = 28*28 = 784\n",
        "\n",
        "0 for black pixels and 1 for white pixels. The number inside the neuron is called the activation.\n",
        "Now the 784 number of neurons containing values from 1 and 0 makes up the first layer of neuron. The last layer has only 10 neurons from 0 to 9. "
      ],
      "metadata": {
        "id": "BsEm7SeQ50x2"
      }
    }
  ],
  "metadata": {
    "language_info": {
      "name": "python"
    },
    "orig_nbformat": 4,
    "colab": {
      "provenance": []
    },
    "kernelspec": {
      "name": "python3",
      "display_name": "Python 3"
    },
    "gpuClass": "standard"
  },
  "nbformat": 4,
  "nbformat_minor": 0
}