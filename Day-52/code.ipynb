{
  "cells": [
    {
      "cell_type": "markdown",
      "source": [
        "## **Soft Margin SVM**\n",
        "\n",
        "Link: https://www.youtube.com/watch?v=utqrvIFAE1k&list=PLKnIA16_RmvbOIFee-ra7U6jR2oIbCZBL&index=5"
      ],
      "metadata": {
        "id": "-iN-g9nTmqVN"
      }
    },
    {
      "cell_type": "markdown",
      "source": [
        "The goal of soft margin SVM is to find a hyperplane that maximizes the margin between the positive and negative examples, while also allowing for some misclassification errors. To achieve this, the optimization problem is formulated as:\n",
        "\n",
        "\n",
        "```\n",
        "minimize (1/2) * ||w||^2 + C * sum(zetai)\n",
        "\n",
        "subject to y_i(w^T x_i + b) >= 1 - xi, xi >= 0\n",
        "```\n",
        "\n",
        "*Margin Error/ Regularization* = minimize (1/2) * ||w||^2 \n",
        "\n",
        "*Classification Error/ Hinge Loss* = C * sum(zetai)\n",
        "\n",
        "Now here zeta is, the distance of error points from the support vector or you can say if the negative point lies in the +ve hyperplane then the distance of that point to its support vector (-ve support vector ) is called the zeta.  "
      ],
      "metadata": {
        "id": "951wfGaCo4Hj"
      }
    },
    {
      "cell_type": "markdown",
      "source": [
        "## **Kernel Trick in SVM**\n",
        "#### Geometric Intuition\n",
        "\n",
        "If the data is not linearly separable in lower dimesions, we use the kernel trick to efficiently transform the input data into a higher dimensional space (i.e; 2D), where it may be easier to separate the classes using a hyperplane. \n",
        "\n",
        "So, we are using a function here which transforms the lower dimentional space into higher dimentional space and we call this function as *'kernel'*. This transformation is called *Kernel transformtion*.\n",
        "\n",
        "There are many kernels that includes,\n",
        "- RBF (Radial Basis Function)\n",
        "- Polynomial\n",
        "- Sigmoid (in logistic regressoin)\n",
        "\n"
      ],
      "metadata": {
        "id": "-0zD1mV4tI6Z"
      }
    }
  ],
  "metadata": {
    "language_info": {
      "name": "python"
    },
    "orig_nbformat": 4,
    "colab": {
      "provenance": []
    }
  },
  "nbformat": 4,
  "nbformat_minor": 0
}