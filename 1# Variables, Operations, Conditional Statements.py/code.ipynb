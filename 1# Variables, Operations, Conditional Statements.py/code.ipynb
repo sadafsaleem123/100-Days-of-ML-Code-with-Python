{
 "cells": [
  {
   "cell_type": "code",
   "execution_count": 3,
   "metadata": {},
   "outputs": [
    {
     "name": "stdout",
     "output_type": "stream",
     "text": [
      "100\n"
     ]
    }
   ],
   "source": [
    "#integer variable\n",
    "count = 100\n",
    "print(count)"
   ]
  },
  {
   "cell_type": "code",
   "execution_count": 4,
   "metadata": {},
   "outputs": [
    {
     "name": "stdout",
     "output_type": "stream",
     "text": [
      "Sadaf Saleem\n"
     ]
    }
   ],
   "source": [
    "#String variable\n",
    "name = \"Sadaf Saleem\"\n",
    "print(name)"
   ]
  },
  {
   "cell_type": "code",
   "execution_count": 5,
   "metadata": {},
   "outputs": [
    {
     "data": {
      "text/plain": [
       "24.6"
      ]
     },
     "execution_count": 5,
     "metadata": {},
     "output_type": "execute_result"
    }
   ],
   "source": [
    "#float variable\n",
    "weather = 24.6\n",
    "weather"
   ]
  },
  {
   "cell_type": "code",
   "execution_count": 6,
   "metadata": {},
   "outputs": [
    {
     "data": {
      "text/plain": [
       "True"
      ]
     },
     "execution_count": 6,
     "metadata": {},
     "output_type": "execute_result"
    }
   ],
   "source": [
    "#boolean variable\n",
    "true = True\n",
    "true"
   ]
  },
  {
   "cell_type": "code",
   "execution_count": 9,
   "metadata": {},
   "outputs": [
    {
     "data": {
      "text/plain": [
       "('apple', 'orange', 1.1, 6, 'banana')"
      ]
     },
     "execution_count": 9,
     "metadata": {},
     "output_type": "execute_result"
    }
   ],
   "source": [
    "#Tuple\n",
    "this_tuple = (\"apple\", \"orange\", 1.1, 6, \"banana\" )\n",
    "this_tuple"
   ]
  },
  {
   "cell_type": "code",
   "execution_count": 10,
   "metadata": {},
   "outputs": [
    {
     "data": {
      "text/plain": [
       "[True, 'apple', 12, 54]"
      ]
     },
     "execution_count": 10,
     "metadata": {},
     "output_type": "execute_result"
    }
   ],
   "source": [
    "#List\n",
    "list1 = [True, 'apple', 12, 54]\n",
    "list1"
   ]
  },
  {
   "cell_type": "code",
   "execution_count": 11,
   "metadata": {},
   "outputs": [
    {
     "data": {
      "text/plain": [
       "['apple', 'mango', 'banana', 'oranges']"
      ]
     },
     "execution_count": 11,
     "metadata": {},
     "output_type": "execute_result"
    }
   ],
   "source": [
    "#Array in Python\n",
    "fruits = ['apple', 'mango', 'banana', 'oranges']\n",
    "fruits"
   ]
  },
  {
   "cell_type": "code",
   "execution_count": 12,
   "metadata": {},
   "outputs": [
    {
     "name": "stdout",
     "output_type": "stream",
     "text": [
      "Sadaf Saleem\n",
      "22\n"
     ]
    }
   ],
   "source": [
    "#Class\n",
    "class Person:\n",
    "    name = \"Sadaf Saleem\"\n",
    "    age = \"22\"\n",
    "\n",
    "p1 = Person()\n",
    "\n",
    "#instance of Person\n",
    "print(p1.name)\n",
    "print(p1.age)\n"
   ]
  },
  {
   "cell_type": "code",
   "execution_count": 17,
   "metadata": {},
   "outputs": [
    {
     "name": "stdout",
     "output_type": "stream",
     "text": [
      "10\n",
      "10\n",
      "2\n",
      "20.0\n",
      "400\n",
      "133.0\n",
      "1.0\n"
     ]
    }
   ],
   "source": [
    "#mathematical operations (+, -, /, *, //, %, ^,)\n",
    "addition = 5 + 5\n",
    "print(addition)\n",
    "\n",
    "sub = addition - 0\n",
    "print(sub)\n",
    "\n",
    "division = sub / 5\n",
    "print(int(division))\n",
    "\n",
    "multip = division * addition\n",
    "print(float(multip))\n",
    "\n",
    "square = multip ** 2\n",
    "print(int(square))\n",
    "\n",
    "modulo = square // 3\n",
    "print(modulo)\n",
    "\n",
    "remainder = square % 3\n",
    "print(remainder)"
   ]
  }
 ],
 "metadata": {
  "kernelspec": {
   "display_name": "Python 3",
   "language": "python",
   "name": "python3"
  },
  "language_info": {
   "codemirror_mode": {
    "name": "ipython",
    "version": 3
   },
   "file_extension": ".py",
   "mimetype": "text/x-python",
   "name": "python",
   "nbconvert_exporter": "python",
   "pygments_lexer": "ipython3",
   "version": "3.10.10"
  },
  "orig_nbformat": 4
 },
 "nbformat": 4,
 "nbformat_minor": 2
}
