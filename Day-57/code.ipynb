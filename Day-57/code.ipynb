{
  "cells": [
    {
      "cell_type": "code",
      "execution_count": null,
      "metadata": {
        "id": "w5eBZ1kDNdZi"
      },
      "outputs": [],
      "source": []
    },
    {
      "cell_type": "markdown",
      "source": [
        "# **Introduction to Deep Learning**\n",
        "\n",
        "*Artificial Intelligence > Machine Learning > Deep Learning*"
      ],
      "metadata": {
        "id": "FAVhKkKcN0w3"
      }
    },
    {
      "cell_type": "code",
      "source": [],
      "metadata": {
        "id": "behTT5lTu3PA"
      },
      "execution_count": null,
      "outputs": []
    },
    {
      "cell_type": "markdown",
      "source": [
        "**Mathematical Equation: Forward Propogation**\n",
        "\n",
        "y = g (wo + Sigma xi. wi)\n",
        "\n",
        "*or, y = g (wo + Xt. W)*\n",
        "\n",
        "Here,\n",
        "\n",
        "*y:* is the output\n",
        "\n",
        "*g*: is the Non-linear activation function \n",
        "\n",
        "*wo:* Bias term\n",
        "\n",
        "*xi:* is the total og  \n",
        "\n",
        "*Sigma xi. wi:* Linear Combination of inputs\n",
        "\n",
        "\n",
        "Some activation function includes\n",
        "\n",
        "Sigmoid Function, Hyperbolic Function, Rectifies Linear Unit (ReLU)\n",
        "\n"
      ],
      "metadata": {
        "id": "rL_SzVm0u3nO"
      }
    }
  ],
  "metadata": {
    "language_info": {
      "name": "python"
    },
    "orig_nbformat": 4,
    "colab": {
      "provenance": []
    }
  },
  "nbformat": 4,
  "nbformat_minor": 0
}