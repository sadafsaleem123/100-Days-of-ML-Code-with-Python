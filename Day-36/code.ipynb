{
  "cells": [
    {
      "cell_type": "markdown",
      "source": [
        "# **Advanced NumPy** \n",
        "Link: https://www.youtube.com/watch?v=cYugp9IN1-Q "
      ],
      "metadata": {
        "id": "_wUJ1bYh1Hmq"
      }
    },
    {
      "cell_type": "code",
      "source": [
        "import numpy as np"
      ],
      "metadata": {
        "id": "6x5V-YEDtWJX"
      },
      "execution_count": null,
      "outputs": []
    },
    {
      "cell_type": "code",
      "source": [
        "gene0 = [100, 200, 50, 400]\n",
        "gene1 = [50, 0, 0, 100]\n",
        "gene2 = [350, 100, 50, 200]\n",
        "expression_data = [gene0, gene1, gene2]"
      ],
      "metadata": {
        "id": "jT4KKNBftTIe"
      },
      "execution_count": null,
      "outputs": []
    },
    {
      "cell_type": "code",
      "execution_count": null,
      "metadata": {
        "colab": {
          "base_uri": "https://localhost:8080/"
        },
        "id": "YfOTl4CDrJYO",
        "outputId": "1e5c4313-3c02-41bf-c168-9fdf5daab22e"
      },
      "outputs": [
        {
          "output_type": "stream",
          "name": "stdout",
          "text": [
            "[[100 200  50 400]\n",
            " [ 50   0   0 100]\n",
            " [350 100  50 200]]\n"
          ]
        }
      ],
      "source": [
        "a = np.array(expression_data)\n",
        "print(a)"
      ]
    },
    {
      "cell_type": "code",
      "source": [
        "def print_info(a):\n",
        "    print('number of elements:', a.size)\n",
        "    print('number of dimensions:', a.ndim)\n",
        "    print('shape:', a.shape)\n",
        "    print('data type:', a.dtype)\n",
        "    print('strides:', a.strides)\n",
        "    print('flags:')\n",
        "    print(a.flags)\n",
        "    \n",
        "print_info(a) #We are using the class becuase we will be calling the info of multiple arrays again and again."
      ],
      "metadata": {
        "colab": {
          "base_uri": "https://localhost:8080/"
        },
        "id": "Z5T7Rjamtjos",
        "outputId": "4ddb2d2c-7ba2-452c-c88f-c38795eb298a"
      },
      "execution_count": null,
      "outputs": [
        {
          "output_type": "stream",
          "name": "stdout",
          "text": [
            "number of elements: 12\n",
            "number of dimensions: 2\n",
            "shape: (3, 4)\n",
            "data type: int64\n",
            "strides: (32, 8)\n",
            "flags:\n",
            "  C_CONTIGUOUS : True\n",
            "  F_CONTIGUOUS : False\n",
            "  OWNDATA : True\n",
            "  WRITEABLE : True\n",
            "  ALIGNED : True\n",
            "  WRITEBACKIFCOPY : False\n",
            "  UPDATEIFCOPY : False\n",
            "\n"
          ]
        }
      ]
    },
    {
      "cell_type": "code",
      "source": [
        "print(a.data)"
      ],
      "metadata": {
        "colab": {
          "base_uri": "https://localhost:8080/"
        },
        "id": "xDKRavNet9wj",
        "outputId": "c3bcf25b-90ba-41bb-d710-1c98c0d1492c"
      },
      "execution_count": null,
      "outputs": [
        {
          "output_type": "stream",
          "name": "stdout",
          "text": [
            "<memory at 0x7f1088a1b1d0>\n"
          ]
        }
      ]
    },
    {
      "cell_type": "code",
      "source": [
        "a.ravel().shape #This creates a flattened version of the 'a' array and returns its shape as a tuple\n",
        "\n",
        "# Here the flattened array has a shape of (n,) becuase the original array is n-dimensional"
      ],
      "metadata": {
        "colab": {
          "base_uri": "https://localhost:8080/"
        },
        "id": "SMG5K91EuM0n",
        "outputId": "eb066a09-4611-4c47-fc90-f0f87fb6f831"
      },
      "execution_count": null,
      "outputs": [
        {
          "output_type": "execute_result",
          "data": {
            "text/plain": [
              "(12,)"
            ]
          },
          "metadata": {},
          "execution_count": 15
        }
      ]
    },
    {
      "cell_type": "code",
      "source": [
        "abytes = a.ravel().view(dtype=np.uint8) #This converts each element of the flattened array to an 8-bit integer and stores it in the new abytes array. "
      ],
      "metadata": {
        "id": "dUgmpJhwvSFU"
      },
      "execution_count": null,
      "outputs": []
    },
    {
      "cell_type": "code",
      "source": [
        "print_info(abytes)"
      ],
      "metadata": {
        "colab": {
          "base_uri": "https://localhost:8080/"
        },
        "id": "sNvzyTMcv_Vw",
        "outputId": "e97997c9-650b-48f7-e74e-edf5fb854012"
      },
      "execution_count": null,
      "outputs": [
        {
          "output_type": "stream",
          "name": "stdout",
          "text": [
            "number of elements: 96\n",
            "number of dimensions: 1\n",
            "shape: (96,)\n",
            "data type: uint8\n",
            "strides: (1,)\n",
            "flags:\n",
            "  C_CONTIGUOUS : True\n",
            "  F_CONTIGUOUS : True\n",
            "  OWNDATA : False\n",
            "  WRITEABLE : True\n",
            "  ALIGNED : True\n",
            "  WRITEBACKIFCOPY : False\n",
            "  UPDATEIFCOPY : False\n",
            "\n"
          ]
        }
      ]
    },
    {
      "cell_type": "code",
      "source": [
        "print(abytes[:24]) #prints the first 24 elements of the NumPy array abytes."
      ],
      "metadata": {
        "colab": {
          "base_uri": "https://localhost:8080/"
        },
        "id": "Xua1W82dwduv",
        "outputId": "a5189498-d48e-4622-a873-77a4c221137a"
      },
      "execution_count": null,
      "outputs": [
        {
          "output_type": "stream",
          "name": "stdout",
          "text": [
            "[100   0   0   0   0   0   0   0 200   0   0   0   0   0   0   0  50   0\n",
            "   0   0   0   0   0   0]\n"
          ]
        }
      ]
    },
    {
      "cell_type": "code",
      "source": [
        "abytes[1] = 1# changes the value of first element to 1.\n",
        "print(abytes[:24])"
      ],
      "metadata": {
        "colab": {
          "base_uri": "https://localhost:8080/"
        },
        "id": "V27jUamQwrmG",
        "outputId": "081a8339-c21d-4f60-b4f5-264893ab46a3"
      },
      "execution_count": null,
      "outputs": [
        {
          "output_type": "stream",
          "name": "stdout",
          "text": [
            "[100   1   0   0   0   0   0   0 200   0   0   0   0   0   0   0  50   0\n",
            "   0   0   0   0   0   0]\n"
          ]
        }
      ]
    },
    {
      "cell_type": "code",
      "source": [
        "a.ravel()[0]"
      ],
      "metadata": {
        "colab": {
          "base_uri": "https://localhost:8080/"
        },
        "id": "qifSUdUHwr8Z",
        "outputId": "1de76dda-d478-4e5f-f25d-e64c0d0ac2c3"
      },
      "execution_count": null,
      "outputs": [
        {
          "output_type": "execute_result",
          "data": {
            "text/plain": [
              "356"
            ]
          },
          "metadata": {},
          "execution_count": 36
        }
      ]
    },
    {
      "cell_type": "markdown",
      "source": [
        "### Transpose of a\n"
      ],
      "metadata": {
        "id": "z5Xf9oFu0Byh"
      }
    },
    {
      "cell_type": "code",
      "source": [
        "print_info(a)"
      ],
      "metadata": {
        "colab": {
          "base_uri": "https://localhost:8080/"
        },
        "id": "EL2DaW0nwr_r",
        "outputId": "3dbafb7d-634e-4adf-cf09-a54e2aa26727"
      },
      "execution_count": null,
      "outputs": [
        {
          "output_type": "stream",
          "name": "stdout",
          "text": [
            "number of elements: 12\n",
            "number of dimensions: 2\n",
            "shape: (3, 4)\n",
            "data type: int64\n",
            "strides: (32, 8)\n",
            "flags:\n",
            "  C_CONTIGUOUS : True\n",
            "  F_CONTIGUOUS : False\n",
            "  OWNDATA : True\n",
            "  WRITEABLE : True\n",
            "  ALIGNED : True\n",
            "  WRITEBACKIFCOPY : False\n",
            "  UPDATEIFCOPY : False\n",
            "\n"
          ]
        }
      ]
    },
    {
      "cell_type": "code",
      "source": [
        "print_info(a.T) #shape of matrix will be changed"
      ],
      "metadata": {
        "colab": {
          "base_uri": "https://localhost:8080/"
        },
        "id": "OhZy74S2wsDA",
        "outputId": "3081dc43-a20c-4552-88eb-3ee137267f67"
      },
      "execution_count": null,
      "outputs": [
        {
          "output_type": "stream",
          "name": "stdout",
          "text": [
            "number of elements: 12\n",
            "number of dimensions: 2\n",
            "shape: (4, 3)\n",
            "data type: int64\n",
            "strides: (8, 32)\n",
            "flags:\n",
            "  C_CONTIGUOUS : False\n",
            "  F_CONTIGUOUS : True\n",
            "  OWNDATA : False\n",
            "  WRITEABLE : True\n",
            "  ALIGNED : True\n",
            "  WRITEBACKIFCOPY : False\n",
            "  UPDATEIFCOPY : False\n",
            "\n"
          ]
        }
      ]
    },
    {
      "cell_type": "markdown",
      "source": [
        "### **Advanced operations: axis-wise evaluation**"
      ],
      "metadata": {
        "id": "VPTGMtuu5FLi"
      }
    },
    {
      "cell_type": "code",
      "source": [
        "expr = np.load('expr.npy')"
      ],
      "metadata": {
        "id": "IXDAFQVt3D0-"
      },
      "execution_count": 40,
      "outputs": []
    },
    {
      "cell_type": "code",
      "source": [
        "print_info(expr)"
      ],
      "metadata": {
        "id": "SqGzZpoN4v85",
        "outputId": "d40a5ffc-9191-48c2-e428-40715241e93e",
        "colab": {
          "base_uri": "https://localhost:8080/"
        }
      },
      "execution_count": 41,
      "outputs": [
        {
          "output_type": "stream",
          "name": "stdout",
          "text": [
            "number of elements: 7687500\n",
            "number of dimensions: 2\n",
            "shape: (20500, 375)\n",
            "data type: uint32\n",
            "strides: (4, 82000)\n",
            "flags:\n",
            "  C_CONTIGUOUS : False\n",
            "  F_CONTIGUOUS : True\n",
            "  OWNDATA : False\n",
            "  WRITEABLE : True\n",
            "  ALIGNED : True\n",
            "  WRITEBACKIFCOPY : False\n",
            "  UPDATEIFCOPY : False\n",
            "\n"
          ]
        }
      ]
    },
    {
      "cell_type": "code",
      "source": [
        "total = np.sum(expr)"
      ],
      "metadata": {
        "id": "Gf8YnKuk4v_9"
      },
      "execution_count": 42,
      "outputs": []
    },
    {
      "cell_type": "code",
      "source": [
        "lib_size = np.sum(expr, axis=0)"
      ],
      "metadata": {
        "id": "R5anFYQT4z1b"
      },
      "execution_count": 43,
      "outputs": []
    },
    {
      "cell_type": "code",
      "source": [
        "lib_size.shape\n"
      ],
      "metadata": {
        "id": "S6JRqtIk4z4W",
        "outputId": "4a184fab-de89-4b31-8e31-d080d5c9460b",
        "colab": {
          "base_uri": "https://localhost:8080/"
        }
      },
      "execution_count": 44,
      "outputs": [
        {
          "output_type": "execute_result",
          "data": {
            "text/plain": [
              "(375,)"
            ]
          },
          "metadata": {},
          "execution_count": 44
        }
      ]
    },
    {
      "cell_type": "markdown",
      "source": [
        "### **Advanced operations: broadcasting**"
      ],
      "metadata": {
        "id": "jllciVB-483n"
      }
    },
    {
      "cell_type": "code",
      "source": [
        "a"
      ],
      "metadata": {
        "id": "-QBZ36Wb5Dgh",
        "outputId": "da65c0f9-6e88-4e1e-d36d-901158e72e06",
        "colab": {
          "base_uri": "https://localhost:8080/"
        }
      },
      "execution_count": 47,
      "outputs": [
        {
          "output_type": "execute_result",
          "data": {
            "text/plain": [
              "array([[356, 200,  50, 400],\n",
              "       [ 50,   0,   0, 100],\n",
              "       [350, 100,  50, 200]])"
            ]
          },
          "metadata": {},
          "execution_count": 47
        }
      ]
    },
    {
      "cell_type": "code",
      "source": [
        "a + 5  # simplest broadcasting"
      ],
      "metadata": {
        "id": "zQQzHwQH5DkX",
        "outputId": "ef28810e-4958-4064-e629-b4a44965277a",
        "colab": {
          "base_uri": "https://localhost:8080/"
        }
      },
      "execution_count": 48,
      "outputs": [
        {
          "output_type": "execute_result",
          "data": {
            "text/plain": [
              "array([[361, 205,  55, 405],\n",
              "       [ 55,   5,   5, 105],\n",
              "       [355, 105,  55, 205]])"
            ]
          },
          "metadata": {},
          "execution_count": 48
        }
      ]
    },
    {
      "cell_type": "code",
      "source": [
        "b = np.array([1, 2, 3, 4])\n",
        "a + b  # broadcasting"
      ],
      "metadata": {
        "id": "4B3d478N5Dnz",
        "outputId": "aee4e1b1-18c2-4554-c4bd-2c3b917e0291",
        "colab": {
          "base_uri": "https://localhost:8080/"
        }
      },
      "execution_count": 49,
      "outputs": [
        {
          "output_type": "execute_result",
          "data": {
            "text/plain": [
              "array([[357, 202,  53, 404],\n",
              "       [ 51,   2,   3, 104],\n",
              "       [351, 102,  53, 204]])"
            ]
          },
          "metadata": {},
          "execution_count": 49
        }
      ]
    },
    {
      "cell_type": "code",
      "source": [
        "b = np.array([1, 2, 3])\n",
        "a + b "
      ],
      "metadata": {
        "id": "HoHExZFO5kOX",
        "outputId": "5358d6f6-54ed-4ee0-8c5e-b8985079c07c",
        "colab": {
          "base_uri": "https://localhost:8080/",
          "height": 190
        }
      },
      "execution_count": 52,
      "outputs": [
        {
          "output_type": "error",
          "ename": "ValueError",
          "evalue": "ignored",
          "traceback": [
            "\u001b[0;31m---------------------------------------------------------------------------\u001b[0m",
            "\u001b[0;31mValueError\u001b[0m                                Traceback (most recent call last)",
            "\u001b[0;32m<ipython-input-52-85e4345b22a7>\u001b[0m in \u001b[0;36m<cell line: 2>\u001b[0;34m()\u001b[0m\n\u001b[1;32m      1\u001b[0m \u001b[0mb\u001b[0m \u001b[0;34m=\u001b[0m \u001b[0mnp\u001b[0m\u001b[0;34m.\u001b[0m\u001b[0marray\u001b[0m\u001b[0;34m(\u001b[0m\u001b[0;34m[\u001b[0m\u001b[0;36m1\u001b[0m\u001b[0;34m,\u001b[0m \u001b[0;36m2\u001b[0m\u001b[0;34m,\u001b[0m \u001b[0;36m3\u001b[0m\u001b[0;34m]\u001b[0m\u001b[0;34m)\u001b[0m\u001b[0;34m\u001b[0m\u001b[0;34m\u001b[0m\u001b[0m\n\u001b[0;32m----> 2\u001b[0;31m \u001b[0ma\u001b[0m \u001b[0;34m+\u001b[0m \u001b[0mb\u001b[0m\u001b[0;34m\u001b[0m\u001b[0;34m\u001b[0m\u001b[0m\n\u001b[0m",
            "\u001b[0;31mValueError\u001b[0m: operands could not be broadcast together with shapes (3,4) (3,) "
          ]
        }
      ]
    },
    {
      "cell_type": "code",
      "source": [
        "b = np.array([[1], [2], [3]])\n",
        "a + b  #shape compatibility"
      ],
      "metadata": {
        "id": "pSzTfIx_5kRZ",
        "outputId": "8057ff67-0f05-4de8-dd7f-e04174a99ad3",
        "colab": {
          "base_uri": "https://localhost:8080/"
        }
      },
      "execution_count": 53,
      "outputs": [
        {
          "output_type": "execute_result",
          "data": {
            "text/plain": [
              "array([[357, 201,  51, 401],\n",
              "       [ 52,   2,   2, 102],\n",
              "       [353, 103,  53, 203]])"
            ]
          },
          "metadata": {},
          "execution_count": 53
        }
      ]
    },
    {
      "cell_type": "code",
      "source": [
        "b.shape"
      ],
      "metadata": {
        "id": "-wU8MX_h54PW",
        "outputId": "78b6ec49-a2df-4db1-a217-e2cde84c4c1a",
        "colab": {
          "base_uri": "https://localhost:8080/"
        }
      },
      "execution_count": 54,
      "outputs": [
        {
          "output_type": "execute_result",
          "data": {
            "text/plain": [
              "(3, 1)"
            ]
          },
          "metadata": {},
          "execution_count": 54
        }
      ]
    },
    {
      "cell_type": "code",
      "source": [
        "lib_size = np.sum(expr, axis=0)"
      ],
      "metadata": {
        "id": "7HRLuJo754Sh"
      },
      "execution_count": 56,
      "outputs": []
    },
    {
      "cell_type": "code",
      "source": [
        "print(expr.shape)\n",
        "print(lib_size.shape)\n",
        "print(lib_size[np.newaxis, :].shape)"
      ],
      "metadata": {
        "id": "K9MXxwTt6BNv",
        "outputId": "e45d4bcd-5659-4d2f-8d53-f3d3128023e8",
        "colab": {
          "base_uri": "https://localhost:8080/"
        }
      },
      "execution_count": 57,
      "outputs": [
        {
          "output_type": "stream",
          "name": "stdout",
          "text": [
            "(20500, 375)\n",
            "(375,)\n",
            "(1, 375)\n"
          ]
        }
      ]
    },
    {
      "cell_type": "code",
      "source": [
        "np.all([True, True, False])"
      ],
      "metadata": {
        "id": "q6kIzpbr6BQ3",
        "outputId": "f5b32669-ed5a-493d-e0f9-8aff76b892ba",
        "colab": {
          "base_uri": "https://localhost:8080/"
        }
      },
      "execution_count": 58,
      "outputs": [
        {
          "output_type": "execute_result",
          "data": {
            "text/plain": [
              "False"
            ]
          },
          "metadata": {},
          "execution_count": 58
        }
      ]
    },
    {
      "cell_type": "code",
      "source": [
        "np.all([True, True, True])"
      ],
      "metadata": {
        "id": "3vux5Pbj6Evu"
      },
      "execution_count": null,
      "outputs": []
    },
    {
      "cell_type": "markdown",
      "source": [
        "### **Linear algebra with NumPy**"
      ],
      "metadata": {
        "id": "1LTCHWeY6ePB"
      }
    },
    {
      "cell_type": "code",
      "source": [
        "M = np.array([[0, 1],\n",
        "              [1, 1],\n",
        "              [1, 0]])\n",
        "v = np.array([9, 2])\n",
        "\n",
        "print(M @ v)"
      ],
      "metadata": {
        "id": "ljEjz74B6EzH",
        "outputId": "7453185c-0348-4337-a737-6e7ba6a5f212",
        "colab": {
          "base_uri": "https://localhost:8080/"
        }
      },
      "execution_count": 59,
      "outputs": [
        {
          "output_type": "stream",
          "name": "stdout",
          "text": [
            "[ 2 11  9]\n"
          ]
        }
      ]
    },
    {
      "cell_type": "code",
      "source": [
        "print(M.T @ M)"
      ],
      "metadata": {
        "id": "elYfiRXT6mE-",
        "outputId": "11f2b333-4423-48b1-aa51-b67d284ee162",
        "colab": {
          "base_uri": "https://localhost:8080/"
        }
      },
      "execution_count": 60,
      "outputs": [
        {
          "output_type": "stream",
          "name": "stdout",
          "text": [
            "[[2 1]\n",
            " [1 2]]\n"
          ]
        }
      ]
    },
    {
      "cell_type": "markdown",
      "source": [
        "Consider the rotation matrix\n",
        "\n",
        "\n",
        "\n",
        "\n",
        "*   [  cos(theta)    -sin(theta)    0]\n",
        "*   [  sin(theta)    cos(theta)    0]\n",
        "*   [  0    0    1]\n",
        "\n",
        "\n",
        "\n",
        "\n",
        "\n"
      ],
      "metadata": {
        "id": "hvpwsFPY65Gh"
      }
    },
    {
      "cell_type": "code",
      "source": [
        "theta_deg = 45\n",
        "theta = np.deg2rad(theta_deg)\n",
        "\n",
        "c = np.cos(theta)\n",
        "s = np.sin(theta)\n",
        "\n",
        "R = np.array([[c, -s, 0],\n",
        "              [s,  c, 0],\n",
        "              [0,  0, 1]]) "
      ],
      "metadata": {
        "id": "c6Jh3efH6mG1"
      },
      "execution_count": 61,
      "outputs": []
    },
    {
      "cell_type": "code",
      "source": [
        "x_axis = np.array([1, 0, 0]) "
      ],
      "metadata": {
        "id": "doyXd1cV6mJz"
      },
      "execution_count": 62,
      "outputs": []
    },
    {
      "cell_type": "code",
      "source": [
        "R @ x_axis\n"
      ],
      "metadata": {
        "id": "8VspuSF46vqZ",
        "outputId": "c240f7c4-bdb5-468c-c699-2c41dec9df06",
        "colab": {
          "base_uri": "https://localhost:8080/"
        }
      },
      "execution_count": 63,
      "outputs": [
        {
          "output_type": "execute_result",
          "data": {
            "text/plain": [
              "array([0.70710678, 0.70710678, 0.        ])"
            ]
          },
          "metadata": {},
          "execution_count": 63
        }
      ]
    },
    {
      "cell_type": "code",
      "source": [
        "rotated = R @ x_axis\n",
        "R @ rotated"
      ],
      "metadata": {
        "id": "RNiuXOoE6veP",
        "outputId": "45fd40af-2b65-4286-a513-bb2296552edc",
        "colab": {
          "base_uri": "https://localhost:8080/"
        }
      },
      "execution_count": 64,
      "outputs": [
        {
          "output_type": "execute_result",
          "data": {
            "text/plain": [
              "array([1.79380389e-16, 1.00000000e+00, 0.00000000e+00])"
            ]
          },
          "metadata": {},
          "execution_count": 64
        }
      ]
    }
  ],
  "metadata": {
    "language_info": {
      "name": "python"
    },
    "orig_nbformat": 4,
    "colab": {
      "provenance": []
    },
    "kernelspec": {
      "name": "python3",
      "display_name": "Python 3"
    },
    "gpuClass": "standard"
  },
  "nbformat": 4,
  "nbformat_minor": 0
}