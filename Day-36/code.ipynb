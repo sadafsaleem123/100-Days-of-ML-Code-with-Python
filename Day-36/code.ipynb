{
  "cells": [
    {
      "cell_type": "code",
      "source": [
        "import numpy as np"
      ],
      "metadata": {
        "id": "6x5V-YEDtWJX"
      },
      "execution_count": 8,
      "outputs": []
    },
    {
      "cell_type": "code",
      "source": [
        "gene0 = [100, 200, 50, 400]\n",
        "gene1 = [50, 0, 0, 100]\n",
        "gene2 = [350, 100, 50, 200]\n",
        "expression_data = [gene0, gene1, gene2]"
      ],
      "metadata": {
        "id": "jT4KKNBftTIe"
      },
      "execution_count": 9,
      "outputs": []
    },
    {
      "cell_type": "code",
      "execution_count": 10,
      "metadata": {
        "id": "YfOTl4CDrJYO",
        "outputId": "1e5c4313-3c02-41bf-c168-9fdf5daab22e",
        "colab": {
          "base_uri": "https://localhost:8080/"
        }
      },
      "outputs": [
        {
          "output_type": "stream",
          "name": "stdout",
          "text": [
            "[[100 200  50 400]\n",
            " [ 50   0   0 100]\n",
            " [350 100  50 200]]\n"
          ]
        }
      ],
      "source": [
        "a = np.array(expression_data)\n",
        "print(a)"
      ]
    },
    {
      "cell_type": "code",
      "source": [
        "def print_info(a):\n",
        "    print('number of elements:', a.size)\n",
        "    print('number of dimensions:', a.ndim)\n",
        "    print('shape:', a.shape)\n",
        "    print('data type:', a.dtype)\n",
        "    print('strides:', a.strides)\n",
        "    print('flags:')\n",
        "    print(a.flags)\n",
        "    \n",
        "print_info(a) #We are using the class becuase we will be calling the info of multiple arrays again and again."
      ],
      "metadata": {
        "id": "Z5T7Rjamtjos",
        "outputId": "4ddb2d2c-7ba2-452c-c88f-c38795eb298a",
        "colab": {
          "base_uri": "https://localhost:8080/"
        }
      },
      "execution_count": 13,
      "outputs": [
        {
          "output_type": "stream",
          "name": "stdout",
          "text": [
            "number of elements: 12\n",
            "number of dimensions: 2\n",
            "shape: (3, 4)\n",
            "data type: int64\n",
            "strides: (32, 8)\n",
            "flags:\n",
            "  C_CONTIGUOUS : True\n",
            "  F_CONTIGUOUS : False\n",
            "  OWNDATA : True\n",
            "  WRITEABLE : True\n",
            "  ALIGNED : True\n",
            "  WRITEBACKIFCOPY : False\n",
            "  UPDATEIFCOPY : False\n",
            "\n"
          ]
        }
      ]
    },
    {
      "cell_type": "code",
      "source": [
        "print(a.data)"
      ],
      "metadata": {
        "id": "xDKRavNet9wj",
        "outputId": "c3bcf25b-90ba-41bb-d710-1c98c0d1492c",
        "colab": {
          "base_uri": "https://localhost:8080/"
        }
      },
      "execution_count": 14,
      "outputs": [
        {
          "output_type": "stream",
          "name": "stdout",
          "text": [
            "<memory at 0x7f1088a1b1d0>\n"
          ]
        }
      ]
    },
    {
      "cell_type": "code",
      "source": [
        "a.ravel().shape #This creates a flattened version of the 'a' array and returns its shape as a tuple\n",
        "\n",
        "# Here the flattened array has a shape of (n,) becuase the original array is n-dimensional"
      ],
      "metadata": {
        "id": "SMG5K91EuM0n",
        "outputId": "eb066a09-4611-4c47-fc90-f0f87fb6f831",
        "colab": {
          "base_uri": "https://localhost:8080/"
        }
      },
      "execution_count": 15,
      "outputs": [
        {
          "output_type": "execute_result",
          "data": {
            "text/plain": [
              "(12,)"
            ]
          },
          "metadata": {},
          "execution_count": 15
        }
      ]
    },
    {
      "cell_type": "code",
      "source": [
        "abytes = a.ravel().view(dtype=np.uint8) #This converts each element of the flattened array to an 8-bit integer and stores it in the new abytes array. "
      ],
      "metadata": {
        "id": "dUgmpJhwvSFU"
      },
      "execution_count": 17,
      "outputs": []
    },
    {
      "cell_type": "code",
      "source": [
        "print_info(abytes)"
      ],
      "metadata": {
        "id": "sNvzyTMcv_Vw",
        "outputId": "e97997c9-650b-48f7-e74e-edf5fb854012",
        "colab": {
          "base_uri": "https://localhost:8080/"
        }
      },
      "execution_count": 22,
      "outputs": [
        {
          "output_type": "stream",
          "name": "stdout",
          "text": [
            "number of elements: 96\n",
            "number of dimensions: 1\n",
            "shape: (96,)\n",
            "data type: uint8\n",
            "strides: (1,)\n",
            "flags:\n",
            "  C_CONTIGUOUS : True\n",
            "  F_CONTIGUOUS : True\n",
            "  OWNDATA : False\n",
            "  WRITEABLE : True\n",
            "  ALIGNED : True\n",
            "  WRITEBACKIFCOPY : False\n",
            "  UPDATEIFCOPY : False\n",
            "\n"
          ]
        }
      ]
    },
    {
      "cell_type": "code",
      "source": [
        "print(abytes[:24]) #prints the first 24 elements of the NumPy array abytes."
      ],
      "metadata": {
        "id": "Xua1W82dwduv",
        "outputId": "a5189498-d48e-4622-a873-77a4c221137a",
        "colab": {
          "base_uri": "https://localhost:8080/"
        }
      },
      "execution_count": 23,
      "outputs": [
        {
          "output_type": "stream",
          "name": "stdout",
          "text": [
            "[100   0   0   0   0   0   0   0 200   0   0   0   0   0   0   0  50   0\n",
            "   0   0   0   0   0   0]\n"
          ]
        }
      ]
    },
    {
      "cell_type": "code",
      "source": [
        "abytes[1] = 1# changes the value of first element to 1.\n",
        "print(abytes[:24])"
      ],
      "metadata": {
        "id": "V27jUamQwrmG",
        "outputId": "081a8339-c21d-4f60-b4f5-264893ab46a3",
        "colab": {
          "base_uri": "https://localhost:8080/"
        }
      },
      "execution_count": 34,
      "outputs": [
        {
          "output_type": "stream",
          "name": "stdout",
          "text": [
            "[100   1   0   0   0   0   0   0 200   0   0   0   0   0   0   0  50   0\n",
            "   0   0   0   0   0   0]\n"
          ]
        }
      ]
    },
    {
      "cell_type": "code",
      "source": [
        "a.ravel()[0]"
      ],
      "metadata": {
        "id": "qifSUdUHwr8Z",
        "outputId": "1de76dda-d478-4e5f-f25d-e64c0d0ac2c3",
        "colab": {
          "base_uri": "https://localhost:8080/"
        }
      },
      "execution_count": 36,
      "outputs": [
        {
          "output_type": "execute_result",
          "data": {
            "text/plain": [
              "356"
            ]
          },
          "metadata": {},
          "execution_count": 36
        }
      ]
    },
    {
      "cell_type": "markdown",
      "source": [
        "### Transpose of a\n"
      ],
      "metadata": {
        "id": "z5Xf9oFu0Byh"
      }
    },
    {
      "cell_type": "code",
      "source": [
        "print_info(a)"
      ],
      "metadata": {
        "id": "EL2DaW0nwr_r",
        "outputId": "3dbafb7d-634e-4adf-cf09-a54e2aa26727",
        "colab": {
          "base_uri": "https://localhost:8080/"
        }
      },
      "execution_count": 37,
      "outputs": [
        {
          "output_type": "stream",
          "name": "stdout",
          "text": [
            "number of elements: 12\n",
            "number of dimensions: 2\n",
            "shape: (3, 4)\n",
            "data type: int64\n",
            "strides: (32, 8)\n",
            "flags:\n",
            "  C_CONTIGUOUS : True\n",
            "  F_CONTIGUOUS : False\n",
            "  OWNDATA : True\n",
            "  WRITEABLE : True\n",
            "  ALIGNED : True\n",
            "  WRITEBACKIFCOPY : False\n",
            "  UPDATEIFCOPY : False\n",
            "\n"
          ]
        }
      ]
    },
    {
      "cell_type": "code",
      "source": [
        "print_info(a.T) #shape of matrix will be changed"
      ],
      "metadata": {
        "id": "OhZy74S2wsDA",
        "outputId": "3081dc43-a20c-4552-88eb-3ee137267f67",
        "colab": {
          "base_uri": "https://localhost:8080/"
        }
      },
      "execution_count": 38,
      "outputs": [
        {
          "output_type": "stream",
          "name": "stdout",
          "text": [
            "number of elements: 12\n",
            "number of dimensions: 2\n",
            "shape: (4, 3)\n",
            "data type: int64\n",
            "strides: (8, 32)\n",
            "flags:\n",
            "  C_CONTIGUOUS : False\n",
            "  F_CONTIGUOUS : True\n",
            "  OWNDATA : False\n",
            "  WRITEABLE : True\n",
            "  ALIGNED : True\n",
            "  WRITEBACKIFCOPY : False\n",
            "  UPDATEIFCOPY : False\n",
            "\n"
          ]
        }
      ]
    }
  ],
  "metadata": {
    "language_info": {
      "name": "python"
    },
    "orig_nbformat": 4,
    "colab": {
      "provenance": []
    },
    "kernelspec": {
      "name": "python3",
      "display_name": "Python 3"
    },
    "gpuClass": "standard"
  },
  "nbformat": 4,
  "nbformat_minor": 0
}